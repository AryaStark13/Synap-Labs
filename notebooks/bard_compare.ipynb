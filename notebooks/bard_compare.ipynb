{
 "cells": [
  {
   "cell_type": "code",
   "execution_count": 1,
   "metadata": {},
   "outputs": [],
   "source": [
    "instagram_features = \"\"\"The Instagram in-app camera has a variety of features that allow you to take and share photos and videos in a creative and engaging way. Some of these features include:\n",
    "\n",
    "Filters: Instagram has a wide variety of filters that you can apply to your photos and videos to change their look and feel. These filters can be used to adjust the brightness, contrast, saturation, and other aspects of your photos, as well as to add special effects like vintage, black and white, or retro.\n",
    "Stickers: Instagram also offers a variety of stickers that you can add to your photos and videos. These stickers can be used to add text, emojis, location information, and other elements to your content.\n",
    "Reels: Reels are a type of short-form video that can be created using the Instagram in-app camera. Reels can be up to 60 seconds long and can include music, filters, stickers, and other effects.\n",
    "Live: Live is a feature that allows you to broadcast live video to your followers. This is a great way to connect with your audience in real time and share your experiences with them.\n",
    "Dual camera: The dual camera feature allows you to record video with both the front and rear cameras at the same time. This is a great way to create more engaging content, such as vlogs or reaction videos.\n",
    "These are just a few of the many features that are available in the Instagram in-app camera. With so many options available, you can be sure to find the perfect way to express yourself and share your creativity with the world.\n",
    "\n",
    "Here are some additional features of the Instagram in-app camera:\n",
    "\n",
    "Superzoom: This feature allows you to zoom in on your subject while recording a video, creating a dramatic effect.\n",
    "Boomerang: This feature records a short video that plays forward and then backward, creating a looping effect.\n",
    "Layout: This feature allows you to combine multiple photos or videos into a single post.\n",
    "Story stickers: These stickers are specific to Stories and can be used to add interactive elements, such as polls, quizzes, and countdowns.\n",
    "AR effects: These effects use augmented reality to overlay digital objects onto your photos and videos.\n",
    "The Instagram in-app camera is constantly being updated with new features, so be sure to check back often to see what's new.\"\"\"\n",
    "\n",
    "snapchat_features = \"\"\"The Snapchat in-app camera has a variety of features that allow you to take and share photos and videos in a creative and engaging way. Some of these features include:\n",
    "\n",
    "Lenses: Snapchat is known for its Lenses, which are augmented reality filters that can be applied to your photos and videos. Lenses can be used to change your appearance, add funny props, or interact with the world around you.\n",
    "Filters: Snapchat also has a variety of filters that you can apply to your photos and videos. These filters can be used to adjust the brightness, contrast, saturation, and other aspects of your photos, as well as to add special effects like vintage, black and white, or retro.\n",
    "Bitmoji: Snapchat users can create their own Bitmoji, which is a personalized cartoon avatar. Bitmoji can be used in a variety of ways, such as as stickers, in Lenses, or as your profile picture.\n",
    "Stories: Snapchat Stories are a way to share photos and videos that disappear after 24 hours. Stories are a great way to share your day with your friends and followers, and they can also be used to promote your brand or business.\n",
    "Chat: Snapchat Chat is a way to send one-on-one or group messages. Chat messages can include text, photos, videos, and Lenses.\n",
    "Discover: Snapchat Discover is a section of the app that features content from publishers, creators, and brands. Discover is a great way to find new content and stay up-to-date on the latest trends.\n",
    "These are just a few of the many features that are available in the Snapchat in-app camera. With so many options available, you can be sure to find the perfect way to express yourself and share your creativity with the world.\n",
    "\n",
    "Here are some additional features of the Snapchat in-app camera:\n",
    "\n",
    "Geofilters: These filters are specific to a location and can be used to add a fun or informative element to your photos and videos.\n",
    "Quick Chat: This feature allows you to send pre-written messages to your friends.\n",
    "Snap Map: This feature shows you where your friends are located and lets you share your own location.\n",
    "Memories: This feature allows you to save your Snaps and Stories so you can access them later.\n",
    "Snapcodes: These are unique QR codes that can be scanned to add friends or open links.\n",
    "The Snapchat in-app camera is constantly being updated with new features, so be sure to check back often to see what's new.\"\"\""
   ]
  },
  {
   "cell_type": "code",
   "execution_count": 2,
   "metadata": {},
   "outputs": [],
   "source": [
    "import langchain\n",
    "from langchain.embeddings.openai import OpenAIEmbeddings\n",
    "from langchain.text_splitter import CharacterTextSplitter\n",
    "from langchain.vectorstores import Chroma\n",
    "from langchain.document_loaders import TextLoader\n",
    "from langchain.indexes import VectorstoreIndexCreator"
   ]
  },
  {
   "cell_type": "code",
   "execution_count": 52,
   "metadata": {},
   "outputs": [
    {
     "name": "stderr",
     "output_type": "stream",
     "text": [
      "Created a chunk of size 1323, which is longer than the specified 1000\n",
      "Created a chunk of size 1481, which is longer than the specified 1000\n"
     ]
    }
   ],
   "source": [
    "text_splitter = CharacterTextSplitter(        \n",
    "    separator = \"\\n\\n\",\n",
    "    chunk_size = 1000,\n",
    "    chunk_overlap  = 50,\n",
    "    length_function = len,\n",
    ")\n",
    "\n",
    "# token_splitter = CharacterTextSplitter.from_tiktoken_encoder(\n",
    "#     chunk_size=100, chunk_overlap=0\n",
    "# )\n",
    "\n",
    "texts = text_splitter.create_documents([instagram_features, snapchat_features], metadatas=[{\"source\": \"instagram\"}, {\"source\": \"snapchat\"}])\n",
    "\n",
    "# tokens_instagram = token_splitter.split_text(instagram_features)\n",
    "# tokens_snapchat = token_splitter.split_text(snapchat_features)"
   ]
  },
  {
   "cell_type": "code",
   "execution_count": 53,
   "metadata": {},
   "outputs": [],
   "source": [
    "embeddings = OpenAIEmbeddings()\n",
    "\n",
    "text_db = Chroma.from_documents(texts, embeddings)\n",
    "\n",
    "# token_db_instagram = Chroma.from_texts(tokens_instagram, embeddings)\n",
    "# token_db_snapchat = Chroma.from_texts(tokens_snapchat, embeddings)"
   ]
  },
  {
   "cell_type": "code",
   "execution_count": 54,
   "metadata": {},
   "outputs": [],
   "source": [
    "from langchain.agents.agent_toolkits import (\n",
    "    create_vectorstore_agent,\n",
    "    VectorStoreToolkit,\n",
    "    VectorStoreInfo,\n",
    ")\n",
    "from langchain.llms import OpenAI\n",
    "\n",
    "llm = OpenAI(\n",
    "    model=\"text-davinci-003\",\n",
    "    temperature=0,\n",
    ")\n",
    "\n",
    "vectorstore_info = VectorStoreInfo(\n",
    "    name=\"text_db\",\n",
    "    description=\"instagram and snapchat features\",\n",
    "    vectorstore=text_db,\n",
    ")\n",
    "toolkit = VectorStoreToolkit(vectorstore_info=vectorstore_info)\n",
    "agent_executor = create_vectorstore_agent(llm=llm, toolkit=toolkit, verbose=True)"
   ]
  },
  {
   "cell_type": "code",
   "execution_count": 50,
   "metadata": {},
   "outputs": [
    {
     "name": "stdout",
     "output_type": "stream",
     "text": [
      "\n",
      "\n",
      "\u001b[1m> Entering new AgentExecutor chain...\u001b[0m\n",
      "\u001b[32;1m\u001b[1;3m I need to use a tool to answer this\n",
      "Action: text_db\n",
      "Action Input: features of the instagram in-app camera\u001b[0m\n",
      "Observation: \u001b[36;1m\u001b[1;3m Superzoom, Boomerang, Layout, Story stickers, AR effects, Filters, Stickers, Reels, Live, Dual camera.\u001b[0m\n",
      "Thought:\u001b[32;1m\u001b[1;3m I now know the final answer\n",
      "Final Answer: Superzoom, Boomerang, Layout, Story stickers, AR effects, Filters, Stickers, Reels, Live, Dual camera.\u001b[0m\n",
      "\n",
      "\u001b[1m> Finished chain.\u001b[0m\n"
     ]
    },
    {
     "data": {
      "text/plain": [
       "'Superzoom, Boomerang, Layout, Story stickers, AR effects, Filters, Stickers, Reels, Live, Dual camera.'"
      ]
     },
     "execution_count": 50,
     "metadata": {},
     "output_type": "execute_result"
    }
   ],
   "source": [
    "agent_executor.run(\n",
    "    \"list some features of the instagram in-app camera\"\n",
    ")"
   ]
  },
  {
   "cell_type": "code",
   "execution_count": 55,
   "metadata": {},
   "outputs": [
    {
     "name": "stdout",
     "output_type": "stream",
     "text": [
      "\n",
      "\n",
      "\u001b[1m> Entering new AgentExecutor chain...\u001b[0m\n",
      "\u001b[32;1m\u001b[1;3m I need to use a tool to answer this question\n",
      "Action: text_db_with_sources\n",
      "Action Input: Compare the features of the instagram in-app camera and the snapchat in-app camera\u001b[0m\n",
      "Observation: \u001b[33;1m\u001b[1;3m{\"answer\": \" The Snapchat in-app camera features include Geofilters, Quick Chat, Snap Map, Memories, and Snapcodes. The Instagram in-app camera features include Superzoom, Boomerang, Layout, Story stickers, and AR effects.\\n\", \"sources\": \"snapchat, instagram\"}\u001b[0m\n",
      "Thought:\u001b[32;1m\u001b[1;3m I now know the final answer\n",
      "Final Answer: The Snapchat in-app camera features include Geofilters, Quick Chat, Snap Map, Memories, and Snapcodes. The Instagram in-app camera features include Superzoom, Boomerang, Layout, Story stickers, and AR effects.\u001b[0m\n",
      "\n",
      "\u001b[1m> Finished chain.\u001b[0m\n"
     ]
    },
    {
     "data": {
      "text/plain": [
       "'The Snapchat in-app camera features include Geofilters, Quick Chat, Snap Map, Memories, and Snapcodes. The Instagram in-app camera features include Superzoom, Boomerang, Layout, Story stickers, and AR effects.'"
      ]
     },
     "execution_count": 55,
     "metadata": {},
     "output_type": "execute_result"
    }
   ],
   "source": [
    "agent_executor.run(\"Compare the features of the instagram in-app camera and the snapchat in-app camera\")"
   ]
  }
 ],
 "metadata": {
  "kernelspec": {
   "display_name": "synap_labs_env",
   "language": "python",
   "name": "python3"
  },
  "language_info": {
   "codemirror_mode": {
    "name": "ipython",
    "version": 3
   },
   "file_extension": ".py",
   "mimetype": "text/x-python",
   "name": "python",
   "nbconvert_exporter": "python",
   "pygments_lexer": "ipython3",
   "version": "3.10.5"
  },
  "orig_nbformat": 4
 },
 "nbformat": 4,
 "nbformat_minor": 2
}
