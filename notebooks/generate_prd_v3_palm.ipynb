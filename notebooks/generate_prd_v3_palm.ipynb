{
 "cells": [
  {
   "cell_type": "code",
   "execution_count": 3,
   "metadata": {},
   "outputs": [],
   "source": [
    "prompt = \"\"\"\\\n",
    "You are a talkative product manager.\n",
    "\n",
    "Now, you want to add the following new feature:\n",
    "Dual Camera Activation Button\n",
    "Feature description: Enables users to capture photos from both front and back cameras simultaneously.\n",
    "\n",
    "Create a Product Requirement Document (PRD) to add this new feature in the following format. Each heading contains a description of what should be included in that section. Return your output in a markdown format to maintain consistency:\n",
    "\n",
    "1. What Are We Solving For?\n",
    "    Give the high-level reasoning for this proposal. What is the problem or opportunity we’re pursuing? Who is this for? What segments or personas are impacted?\n",
    "\n",
    "2. Why Does It Matter?\n",
    "    Why is this initiative big enough to matter to Customers? What data or studies do we have to support this? \n",
    "\n",
    "3. What Does Success Look Like?\n",
    "    What is the primary metric you’ll use to gauge success of this initiative? What is the target lift/impact to this metric, over what time period?\n",
    "    What are the secondary metric(s) of success?\n",
    "\n",
    "4. Background\n",
    "    Include any necessary background research here, including data analysis, industry research, competitor analysis, quantitative or qualitative customer insights, etc.\n",
    "\n",
    "5. Known Constraints\n",
    "    Where applicable, lay out any constraints that must be taken into account when designing a solution. These constraints may related to usability (i.e. accessibility), time (seasonality), technology (platform capabilities or site performance), legal, and business guardrails. \n",
    "\n",
    "6. Solution Proposal\n",
    "    Given the opportunity, the background, and the constraints, what are we proposing? List bullet points or insert sketches that describe the solution at a high level. If this initiative is successful, what will get better for the customers?\n",
    "\n",
    "7. Risks & Assumptions\n",
    "    What must we assume to be true in order for this initiative to be successful? What developments could cause this initiative to be unsuccessful? Risks include fraud/abuse potential, security…\n",
    "\n",
    "8. Target Customers\n",
    ">   8.1 Market\n",
    "        Detail the specific regions & countries which the Product Development Team needs to build a solution for? Where we can lean into opportunities? Where do we need to mitigate emergent risks?\n",
    ">   8.2 Audience Segments\n",
    "        List the unique customer audiences this solution needs to address uniquely. \n",
    "\n",
    "9. User Experience\n",
    ">   9.1 User Flows\n",
    "        What screens, touch points or experiences that are being considered as part of this initiative? There may be several - and these may cross boundaries of products, experiences and user states. \n",
    "\n",
    "10. High Level Use Cases: Fill it in the given format\n",
    "\n",
    "|    \t| Name                                                       \t| Description                                                                                                                                            \t| PDT or Squad                                                                           \t| Dependency?                                                                 \t| Priority                                    \t| Open Questions,  Notes & Discussions                                             \t|\n",
    "|----\t|------------------------------------------------------------\t|--------------------------------------------------------------------------------------------------------------------------------------------------------\t|----------------------------------------------------------------------------------------\t|-----------------------------------------------------------------------------\t|---------------------------------------------\t|----------------------------------------------------------------------------------\t|\n",
    "| Desc  | Give this use case a name. e.g. Order Lifecycle Management \t| Note: this is not a user story. User stories are much more detailed/granular views of use cases. They represent the requirements & definition of done. \t| Name the Product Development team or squad if you know who will work on this use case. \t| If this use case has a dependency, list the use case # on which it depends. \t| MUST HAVE SHOULD HAVE COULD HAVE WON'T HAVE \t| Important things team members should know / things you're working to figure out. \t|\n",
    "\n",
    "11. Rollout Approach\n",
    "    How will we execute this rollout? Big-bang or gradual scale-up? A/B test or launch-and-measure? \n",
    "    Will the rollout happen in every market at once, or will markets ramp up one by one?\n",
    "    Be inclusive of other key Product Development Team members in having this discussion, in particular Data Analysts, Data Science and Business Ops, along with Developers.\n",
    "    Provide a comprehensive view into the Pros/Cons, what can/cannot be answered as a result, and reasoning behind the decision being made for the rollout approach. \n",
    "\n",
    "12. Measuring Success\n",
    "    If A/B testing, describe the variants being tested, traffic allocations to each variant, and the KPIs being measured in the experiment. \n",
    "    Describe the desired cadence of performance readouts and align with Analytics to ensure it’s covered.\n",
    "    As with the Rollout Approach section, please be sure to socialize this plan with your partners in Analytics, Data Science and Business Operations.\n",
    "\n",
    "13. Competitive Analysis:\n",
    "    List 10 competitors of this application. Create a detailed competitive analysis report comparing the above applications. include the following points: user base, user region, different features supported, and pricing tiers. Don't limit yourself to these categories and think of other categories yourself. Return the output in a well-structured Markdown table. Think step by step\"\"\",\n",
    "    "
   ]
  },
  {
   "cell_type": "code",
   "execution_count": 11,
   "metadata": {},
   "outputs": [],
   "source": [
    "import langchain\n",
    "from langchain.llms import VertexAI\n",
    "from langchain.prompts import PromptTemplate, load_prompt\n",
    "import os\n",
    "import wandb\n",
    "from wandb.integration.langchain import WandbTracer"
   ]
  },
  {
   "cell_type": "code",
   "execution_count": null,
   "metadata": {},
   "outputs": [],
   "source": [
    "wandb.init(\n",
    "    project=\"generate_simple_prd_palm\",\n",
    "    config={\n",
    "        \"model\": \"text-bison-001\",\n",
    "        \"temperature\": 0\n",
    "    },\n",
    "    entity=\"arihantsheth\",\n",
    "    name=\"generate_simple_prd_v3\",\n",
    ")"
   ]
  },
  {
   "cell_type": "code",
   "execution_count": 12,
   "metadata": {},
   "outputs": [],
   "source": [
    "llm = VertexAI(max_output_tokens=1024, project=\"synap-labs-390404\")\n",
    "\n",
    "prompt_template = load_prompt(\"../prompt_templates/generate_prd_template_v3.json\")"
   ]
  },
  {
   "cell_type": "code",
   "execution_count": 13,
   "metadata": {},
   "outputs": [],
   "source": [
    "prompt_input_variables = {\n",
    "    \"wandb\": dict(\n",
    "        new_feature=\"Model Explainability Toolkit (MXT)\",\n",
    "        new_feature_desc=\"Enables users to interpret and explain the outputs and decision-making of their AI Models.\"\n",
    "    ),\n",
    "    \"langchain\": dict(\n",
    "        new_feature=\"Model Training Wizard (MTW)\",\n",
    "        new_feature_desc=\" A user-friendly interface that guides users through the process of training their own custom language models. It would provide step-by-step instructions, dataset management tools, and performance evaluation metrics to help users create high-quality models tailored to their specific needs.\"\n",
    "    ),\n",
    "    \"dualcam\": dict(\n",
    "        new_feature=\"Dual Camera Activation Button\",\n",
    "        new_feature_desc=\"Enables users to capture photos from both front and back cameras simultaneously.\"\n",
    "    )\n",
    "}"
   ]
  },
  {
   "cell_type": "code",
   "execution_count": 14,
   "metadata": {},
   "outputs": [],
   "source": [
    "prompts = dict()\n",
    "for company in prompt_input_variables:\n",
    "    prompts[company] = prompt_template.format(**prompt_input_variables[company])"
   ]
  },
  {
   "cell_type": "code",
   "execution_count": 15,
   "metadata": {},
   "outputs": [
    {
     "name": "stdout",
     "output_type": "stream",
     "text": [
      "Generating PRD for dualcam...\n"
     ]
    }
   ],
   "source": [
    "outputs = dict()\n",
    "\n",
    "for company in prompts:\n",
    "    print(f\"Generating PRD for {company}...\")\n",
    "    prompt = prompts[company]\n",
    "    \n",
    "    try:\n",
    "        output = llm(prompt, callbacks=[WandbTracer()])\n",
    "        # output = llm(prompt)\n",
    "    except Exception as e:\n",
    "        print(e)\n",
    "        output = f\"ERROR: {e}\"\n",
    "\n",
    "    outputs[company] = output\n",
    "    wandb.log({f\"{company}_prd\": output})"
   ]
  },
  {
   "cell_type": "code",
   "execution_count": 17,
   "metadata": {},
   "outputs": [
    {
     "data": {
      "text/markdown": [
       "## Dualcam"
      ],
      "text/plain": [
       "<IPython.core.display.Markdown object>"
      ]
     },
     "metadata": {},
     "output_type": "display_data"
    },
    {
     "data": {
      "text/markdown": [
       "\n",
       " 1. What Are We Solving For?\n",
       "\n",
       "We are adding a new feature to our camera app that will allow users to capture photos from both the front and back cameras simultaneously. This will allow users to take more creative photos and videos, and it will be especially useful for taking selfies with friends or family.\n",
       "\n",
       "2. Why Does It Matter?\n",
       "\n",
       "This feature is important because it will allow us to differentiate our camera app from the competition. It will also be a valuable addition for our users, who will be able to take more creative photos and videos.\n",
       "\n",
       "3. What Does Success Look Like?\n",
       "\n",
       "The success of this feature will be measured by the number of users who use it and the number of photos and videos that are taken using it. We will also measure the satisfaction of our users with this feature.\n",
       "\n",
       "4. Background\n",
       "\n",
       "We have conducted research on this feature and have found that there is a strong demand for it. We have also conducted user testing and have found that users are very satisfied with the feature.\n",
       "\n",
       "5. Known Constraints\n",
       "\n",
       "There are a few constraints that we need to take into account when designing this feature. First, we need to make sure that the feature is easy to use. Second, we need to make sure that the feature does not slow down the camera app. Third, we need to make sure that the feature does not consume too much battery power.\n",
       "\n",
       "6. Solution Proposal\n",
       "\n",
       "The solution that we are proposing is to add a new button to the camera app that will allow users to toggle between the front and back cameras. When the button is pressed, the camera app will switch to the other camera and will start capturing photos or videos.\n",
       "\n",
       "7. Risks & Assumptions\n",
       "\n",
       "The main risk associated with this feature is that it may not be used by users. We need to make sure that the feature is easy to use and that it provides users with a valuable experience.\n",
       "\n",
       "8. Target Customers\n",
       "\n",
       "The target customers for this feature are people who use camera apps to take photos and videos. This includes people of all ages, but it is especially popular with young people.\n",
       "\n",
       "9. User Experience\n",
       "\n",
       "The user experience for this feature will be very simple. Users will simply need to tap the new button to toggle between the front and back cameras. The camera app will then start capturing photos or videos from the selected camera.\n",
       "\n",
       "10. High Level Use Cases:\n",
       "\n",
       "| Name | Description | PDT or Squad | Dependency | Priority | Open Questions,  Notes & Discussions |\n",
       "|---|---|---|---|---|---|\n",
       "| Take a photo with both front and back cameras | Users will be able to take a photo with both the front and back cameras simultaneously. | Camera | None | Must Have | None |\n",
       "| Take a video with both front and back cameras | Users will be able to take a video with both the front and back cameras simultaneously. | Camera | None | Must Have | None |\n",
       "| Switch between the front and back cameras while taking a photo or video | Users will be able to switch between the front and back cameras while taking a photo or video. | Camera | None | Must Have | None |\n",
       "\n",
       "11. Rollout Approach\n",
       "\n",
       "We will roll out this feature in a big-bang release to all users. We will not be conducting an A/B test or a launch-and-measure experiment.\n",
       "\n",
       "12. Measuring Success\n",
       "\n",
       "We will measure the success of this feature by the number of users who use it and the number of photos and videos that are taken using it. We will also measure the satisfaction of our users with this feature.\n",
       "\n",
       "13. Competitive Analysis:\n",
       "\n",
       "| Company Name | User Base | User Region | User Age Group | Features | Add more comparision points |\n",
       "|-------------|---------|-------------|----------------|----------|-----------------------------|\n",
       "| Instagram | 1 billion | Worldwide | 13-34 | Filters, editing, sharing | |\n",
       "| Snapchat | 293 million | Worldwide | 13-24 | Filters, editing, sharing | |\n",
       "| Facebook | 2.8 billion | Worldwide | 13+ | Filters, editing, sharing | |\n",
       "| Google Photos | 1 billion | Worldwide | 13+ | Filters, editing, sharing | |\n",
       "\n",
       "We believe that our new feature will be a valuable addition to our camera app and that it will be well-received by our users. We are confident that this feature will help us to differentiate our app from the competition and to grow our user base."
      ],
      "text/plain": [
       "<IPython.core.display.Markdown object>"
      ]
     },
     "metadata": {},
     "output_type": "display_data"
    }
   ],
   "source": [
    "from IPython.display import Markdown, display\n",
    "\n",
    "for company in outputs:\n",
    "    display(Markdown(f\"## {company.title()}\"))\n",
    "    display(Markdown(outputs[company]))"
   ]
  },
  {
   "cell_type": "code",
   "execution_count": 1,
   "metadata": {},
   "outputs": [],
   "source": [
    "import vertexai\n",
    "from vertexai.language_models import TextGenerationModel\n",
    "\n",
    "# from google.cloud import auth as google_auth\n",
    "# google_auth.authenticate_user()\n",
    "\n",
    "vertexai.init(project=\"synap-labs-390404\", location=\"us-central1\")\n",
    "parameters = {\n",
    "    \"temperature\": 0.2,\n",
    "    \"max_output_tokens\": 1024,\n",
    "    \"top_p\": 0.8,\n",
    "    \"top_k\": 40\n",
    "}\n",
    "model = TextGenerationModel.from_pretrained(\"text-bison@001\")\n",
    "response = model.predict(\n",
    "    prompt,\n",
    "    **parameters\n",
    ")\n",
    "# print(f\"Response from Model: {response.text}\")\n",
    "res = response.text"
   ]
  },
  {
   "cell_type": "code",
   "execution_count": null,
   "metadata": {},
   "outputs": [],
   "source": [
    "from IPython.display import Markdown, display\n",
    "\n",
    "display(Markdown(res))"
   ]
  },
  {
   "cell_type": "code",
   "execution_count": 5,
   "metadata": {},
   "outputs": [],
   "source": [
    "from langchain.llms import VertexAI\n",
    "from langchain import PromptTemplate, LLMChain"
   ]
  },
  {
   "cell_type": "code",
   "execution_count": 6,
   "metadata": {},
   "outputs": [],
   "source": [
    "template = \"\"\"Question: {question}\n",
    "\n",
    "Answer: Let's think step by step.\"\"\"\n",
    "\n",
    "prompt = PromptTemplate(template=template, input_variables=[\"question\"])"
   ]
  },
  {
   "cell_type": "code",
   "execution_count": 7,
   "metadata": {},
   "outputs": [],
   "source": [
    "llm = VertexAI()"
   ]
  },
  {
   "cell_type": "code",
   "execution_count": 8,
   "metadata": {},
   "outputs": [],
   "source": [
    "llm_chain = LLMChain(prompt=prompt, llm=llm)"
   ]
  },
  {
   "cell_type": "code",
   "execution_count": 10,
   "metadata": {},
   "outputs": [
    {
     "name": "stdout",
     "output_type": "stream",
     "text": [
      "Justin Beiber was born on March 1, 1994. The Super Bowl in 1994 was won by the San Francisco 49ers.\n",
      "The final answer: San Francisco 49ers.\n"
     ]
    }
   ],
   "source": [
    "question = \"What NFL team won the Super Bowl in the year Justin Beiber was born?\"\n",
    "\n",
    "print(llm_chain.run(question))"
   ]
  }
 ],
 "metadata": {
  "kernelspec": {
   "display_name": "synap_labs_env",
   "language": "python",
   "name": "python3"
  },
  "language_info": {
   "codemirror_mode": {
    "name": "ipython",
    "version": 3
   },
   "file_extension": ".py",
   "mimetype": "text/x-python",
   "name": "python",
   "nbconvert_exporter": "python",
   "pygments_lexer": "ipython3",
   "version": "3.10.5"
  },
  "orig_nbformat": 4
 },
 "nbformat": 4,
 "nbformat_minor": 2
}
