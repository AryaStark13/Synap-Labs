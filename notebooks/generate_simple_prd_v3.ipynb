{
 "cells": [
  {
   "cell_type": "code",
   "execution_count": 1,
   "metadata": {},
   "outputs": [],
   "source": [
    "import langchain\n",
    "from langchain.llms import OpenAI\n",
    "from langchain.prompts import PromptTemplate, load_prompt\n",
    "from langchain.agents import load_tools, initialize_agent\n",
    "import openai\n",
    "import os\n",
    "import wandb\n",
    "from wandb.integration.langchain import WandbTracer\n",
    "import json"
   ]
  },
  {
   "cell_type": "code",
   "execution_count": 8,
   "metadata": {},
   "outputs": [
    {
     "name": "stderr",
     "output_type": "stream",
     "text": [
      "Failed to detect the name of this notebook, you can set it manually with the WANDB_NOTEBOOK_NAME environment variable to enable code saving.\n",
      "\u001b[34m\u001b[1mwandb\u001b[0m: Currently logged in as: \u001b[33marihantsheth\u001b[0m. Use \u001b[1m`wandb login --relogin`\u001b[0m to force relogin\n"
     ]
    },
    {
     "data": {
      "text/html": [
       "Tracking run with wandb version 0.15.4"
      ],
      "text/plain": [
       "<IPython.core.display.HTML object>"
      ]
     },
     "metadata": {},
     "output_type": "display_data"
    },
    {
     "data": {
      "text/html": [
       "Run data is saved locally in <code>c:\\Users\\ariha\\Desktop\\Synap Labs\\notebooks\\wandb\\run-20230629_214547-79m4ifk0</code>"
      ],
      "text/plain": [
       "<IPython.core.display.HTML object>"
      ]
     },
     "metadata": {},
     "output_type": "display_data"
    },
    {
     "data": {
      "text/html": [
       "Syncing run <strong><a href='https://wandb.ai/arihantsheth/generate_simple_prd/runs/79m4ifk0' target=\"_blank\">generate_simple_prd_v3</a></strong> to <a href='https://wandb.ai/arihantsheth/generate_simple_prd' target=\"_blank\">Weights & Biases</a> (<a href='https://wandb.me/run' target=\"_blank\">docs</a>)<br/>"
      ],
      "text/plain": [
       "<IPython.core.display.HTML object>"
      ]
     },
     "metadata": {},
     "output_type": "display_data"
    },
    {
     "data": {
      "text/html": [
       " View project at <a href='https://wandb.ai/arihantsheth/generate_simple_prd' target=\"_blank\">https://wandb.ai/arihantsheth/generate_simple_prd</a>"
      ],
      "text/plain": [
       "<IPython.core.display.HTML object>"
      ]
     },
     "metadata": {},
     "output_type": "display_data"
    },
    {
     "data": {
      "text/html": [
       " View run at <a href='https://wandb.ai/arihantsheth/generate_simple_prd/runs/79m4ifk0' target=\"_blank\">https://wandb.ai/arihantsheth/generate_simple_prd/runs/79m4ifk0</a>"
      ],
      "text/plain": [
       "<IPython.core.display.HTML object>"
      ]
     },
     "metadata": {},
     "output_type": "display_data"
    },
    {
     "data": {
      "text/html": [
       "<button onClick=\"this.nextSibling.style.display='block';this.style.display='none';\">Display W&B run</button><iframe src='https://wandb.ai/arihantsheth/generate_simple_prd/runs/79m4ifk0?jupyter=true' style='border:none;width:100%;height:420px;display:none;'></iframe>"
      ],
      "text/plain": [
       "<wandb.sdk.wandb_run.Run at 0x157a4c9e6e0>"
      ]
     },
     "execution_count": 8,
     "metadata": {},
     "output_type": "execute_result"
    }
   ],
   "source": [
    "wandb.init(\n",
    "    project=\"generate_simple_prd\",\n",
    "    config={\n",
    "        \"model\": \"gpt-3.5-turbo\",\n",
    "        \"temperature\": 0\n",
    "    },\n",
    "    entity=\"arihantsheth\",\n",
    "    name=\"generate_simple_prd_v3\",\n",
    ")"
   ]
  },
  {
   "cell_type": "code",
   "execution_count": 2,
   "metadata": {},
   "outputs": [
    {
     "name": "stderr",
     "output_type": "stream",
     "text": [
      "c:\\Users\\ariha\\Desktop\\Synap Labs\\synap_labs_env\\lib\\site-packages\\langchain\\llms\\openai.py:171: UserWarning: You are trying to use a chat model. This way of initializing it is no longer supported. Instead, please use: `from langchain.chat_models import ChatOpenAI`\n",
      "  warnings.warn(\n",
      "c:\\Users\\ariha\\Desktop\\Synap Labs\\synap_labs_env\\lib\\site-packages\\langchain\\llms\\openai.py:740: UserWarning: You are trying to use a chat model. This way of initializing it is no longer supported. Instead, please use: `from langchain.chat_models import ChatOpenAI`\n",
      "  warnings.warn(\n"
     ]
    }
   ],
   "source": [
    "llm = OpenAI(model_name=\"gpt-3.5-turbo\", temperature=0)\n",
    "\n",
    "prompt_template = load_prompt(\"../prompt_templates/generate_prd_template_v3.json\")"
   ]
  },
  {
   "cell_type": "code",
   "execution_count": 3,
   "metadata": {},
   "outputs": [],
   "source": [
    "prompt_input_variables = {\n",
    "    \"wandb\": dict(\n",
    "        new_feature=\"Model Explainability Toolkit (MXT)\",\n",
    "        new_feature_desc=\"Enables users to interpret and explain the outputs and decision-making of their AI Models.\"\n",
    "    ),\n",
    "    \"langchain\": dict(\n",
    "        new_feature=\"Model Training Wizard (MTW)\",\n",
    "        new_feature_desc=\" A user-friendly interface that guides users through the process of training their own custom language models. It would provide step-by-step instructions, dataset management tools, and performance evaluation metrics to help users create high-quality models tailored to their specific needs.\"\n",
    "    ),\n",
    "    \"dualcam\": dict(\n",
    "        new_feature=\"Dual Camera Activation Button\",\n",
    "        new_feature_desc=\"Enables users to capture photos from both front and back cameras simultaneously.\"\n",
    "    )\n",
    "}"
   ]
  },
  {
   "cell_type": "code",
   "execution_count": 4,
   "metadata": {},
   "outputs": [],
   "source": [
    "string_template = \"\"\"\\\n",
    "You are a talkative product manager.\n",
    "\n",
    "Now, you want to add the following new feature:\n",
    "{new_feature}\n",
    "Feature description: {new_feature_desc}\n",
    "\n",
    "Create a Product Requirement Document (PRD) to add this new feature in the following format. Each heading contains a description of what should be included in that section. Return your output in a markdown format to maintain consistency:\n",
    "\n",
    "1. What Are We Solving For?\n",
    "    Give the high-level reasoning for this proposal. What is the problem or opportunity we’re pursuing? Who is this for? What segments or personas are impacted?\n",
    "\n",
    "2. Why Does It Matter?\n",
    "    Why is this initiative big enough to matter to Customers? What data or studies do we have to support this? \n",
    "\n",
    "3. What Does Success Look Like?\n",
    "    What is the primary metric you’ll use to gauge success of this initiative? What is the target lift/impact to this metric, over what time period?\n",
    "    What are the secondary metric(s) of success?\n",
    "\n",
    "4. Background\n",
    "    Include any necessary background research here, including data analysis, industry research, competitor analysis, quantitative or qualitative customer insights, etc.\n",
    "\n",
    "5. Known Constraints\n",
    "    Where applicable, lay out any constraints that must be taken into account when designing a solution. These constraints may related to usability (i.e. accessibility), time (seasonality), technology (platform capabilities or site performance), legal, and business guardrails. \n",
    "\n",
    "6. Solution Proposal\n",
    "    Given the opportunity, the background, and the constraints, what are we proposing? List bullet points or insert sketches that describe the solution at a high level. If this initiative is successful, what will get better for the customers?\n",
    "\n",
    "7. Risks & Assumptions\n",
    "    What must we assume to be true in order for this initiative to be successful? What developments could cause this initiative to be unsuccessful? Risks include fraud/abuse potential, security…\n",
    "\n",
    "8. Target Customers\n",
    ">   8.1 Market\n",
    "        Detail the specific regions & countries which the Product Development Team needs to build a solution for? Where we can lean into opportunities? Where do we need to mitigate emergent risks?\n",
    ">   8.2 Audience Segments\n",
    "        List the unique customer audiences this solution needs to address uniquely. \n",
    "\n",
    "9. User Experience\n",
    ">   9.1 User Flows\n",
    "        What screens, touch points or experiences that are being considered as part of this initiative? There may be several - and these may cross boundaries of products, experiences and user states. \n",
    "\n",
    "10. High Level Use Cases: Fill it in the given format\n",
    "\n",
    "|    \t| Name                                                       \t| Description                                                                                                                                            \t| PDT or Squad                                                                           \t| Dependency?                                                                 \t| Priority                                    \t| Open Questions,  Notes & Discussions                                             \t|\n",
    "|----\t|------------------------------------------------------------\t|--------------------------------------------------------------------------------------------------------------------------------------------------------\t|----------------------------------------------------------------------------------------\t|-----------------------------------------------------------------------------\t|---------------------------------------------\t|----------------------------------------------------------------------------------\t|\n",
    "| Desc  | Give this use case a name. e.g. Order Lifecycle Management \t| Note: this is not a user story. User stories are much more detailed/granular views of use cases. They represent the requirements & definition of done. \t| Name the Product Development team or squad if you know who will work on this use case. \t| If this use case has a dependency, list the use case # on which it depends. \t| MUST HAVE SHOULD HAVE COULD HAVE WON'T HAVE \t| Important things team members should know / things you're working to figure out. \t|\n",
    "\n",
    "11. Rollout Approach\n",
    "    How will we execute this rollout? Big-bang or gradual scale-up? A/B test or launch-and-measure? \n",
    "    Will the rollout happen in every market at once, or will markets ramp up one by one?\n",
    "    Be inclusive of other key Product Development Team members in having this discussion, in particular Data Analysts, Data Science and Business Ops, along with Developers.\n",
    "    Provide a comprehensive view into the Pros/Cons, what can/cannot be answered as a result, and reasoning behind the decision being made for the rollout approach. \n",
    "\n",
    "12. Measuring Success\n",
    "    If A/B testing, describe the variants being tested, traffic allocations to each variant, and the KPIs being measured in the experiment. \n",
    "    Describe the desired cadence of performance readouts and align with Analytics to ensure it’s covered.\n",
    "    As with the Rollout Approach section, please be sure to socialize this plan with your partners in Analytics, Data Science and Business Operations.\n",
    "\n",
    "13. Competitive Analysis:\n",
    "    List 10 competitors of this application. Create a detailed competitive analysis report comparing the above applications. include the following points: user base, user region, different features supported, and pricing tiers. Don't limit yourself to these categories and think of other categories yourself. Return the output in a well-structured Markdown table. Think step by step\"\"\""
   ]
  },
  {
   "cell_type": "code",
   "execution_count": 28,
   "metadata": {},
   "outputs": [],
   "source": [
    "prompt_template = PromptTemplate(template=string_template, input_variables=[\"new_feature\", \"new_feature_desc\"])"
   ]
  },
  {
   "cell_type": "code",
   "execution_count": 18,
   "metadata": {},
   "outputs": [],
   "source": [
    "# prompt_template.save(\"../prompt_templates/generate_prd_template_v3.json\")"
   ]
  },
  {
   "cell_type": "code",
   "execution_count": 5,
   "metadata": {},
   "outputs": [],
   "source": [
    "prompts = dict()\n",
    "for company in prompt_input_variables:\n",
    "    prompts[company] = prompt_template.format(**prompt_input_variables[company])"
   ]
  },
  {
   "cell_type": "code",
   "execution_count": 6,
   "metadata": {},
   "outputs": [],
   "source": [
    "with open(\"../company_prompts/prompt_inputs_v3.json\", \"w\") as f:\n",
    "    json.dump(prompt_input_variables, f)\n",
    "\n",
    "with open(\"../company_prompts/prompts_v3.json\", \"w\") as f:\n",
    "    json.dump(prompts, f)"
   ]
  },
  {
   "cell_type": "code",
   "execution_count": 30,
   "metadata": {},
   "outputs": [
    {
     "name": "stdout",
     "output_type": "stream",
     "text": [
      "Generating PRD for dualcam...\n",
      "The model: `gpt-4` does not exist\n"
     ]
    }
   ],
   "source": [
    "outputs = dict()\n",
    "\n",
    "for company in prompts:\n",
    "    print(f\"Generating PRD for {company}...\")\n",
    "    prompt = prompts[company]\n",
    "    \n",
    "    try:\n",
    "        output = llm(prompt, callbacks=[WandbTracer()])\n",
    "        # output = llm(prompt)\n",
    "    except Exception as e:\n",
    "        print(e)\n",
    "        output = f\"ERROR: {e}\"\n",
    "\n",
    "    outputs[company] = output\n",
    "    wandb.log({f\"{company}_prd\": output})"
   ]
  },
  {
   "cell_type": "code",
   "execution_count": 77,
   "metadata": {},
   "outputs": [],
   "source": [
    "for company in outputs:\n",
    "    with open(f\"../generated_prds/{company}_prd_v3.md\", \"w\") as f:\n",
    "        f.write(outputs[company])"
   ]
  },
  {
   "cell_type": "code",
   "execution_count": 66,
   "metadata": {},
   "outputs": [
    {
     "data": {
      "text/html": [
       "Waiting for W&B process to finish... <strong style=\"color:green\">(success).</strong>"
      ],
      "text/plain": [
       "<IPython.core.display.HTML object>"
      ]
     },
     "metadata": {},
     "output_type": "display_data"
    },
    {
     "data": {
      "text/html": [
       "<style>\n",
       "    table.wandb td:nth-child(1) { padding: 0 10px; text-align: left ; width: auto;} td:nth-child(2) {text-align: left ; width: 100%}\n",
       "    .wandb-row { display: flex; flex-direction: row; flex-wrap: wrap; justify-content: flex-start; width: 100% }\n",
       "    .wandb-col { display: flex; flex-direction: column; flex-basis: 100%; flex: 1; padding: 10px; }\n",
       "    </style>\n",
       "<div class=\"wandb-row\"><div class=\"wandb-col\"><h3>Run summary:</h3><br/><table class=\"wandb\"><tr><td>langchain_prd</td><td># Product Requiremen...</td></tr><tr><td>wandb_prd</td><td># Product Requiremen...</td></tr></table><br/></div></div>"
      ],
      "text/plain": [
       "<IPython.core.display.HTML object>"
      ]
     },
     "metadata": {},
     "output_type": "display_data"
    },
    {
     "data": {
      "text/html": [
       " View run <strong style=\"color:#cdcd00\">generate_simple_prd_v3</strong> at: <a href='https://wandb.ai/arihantsheth/generate_simple_prd/runs/527cv39p' target=\"_blank\">https://wandb.ai/arihantsheth/generate_simple_prd/runs/527cv39p</a><br/>Synced 5 W&B file(s), 0 media file(s), 0 artifact file(s) and 0 other file(s)"
      ],
      "text/plain": [
       "<IPython.core.display.HTML object>"
      ]
     },
     "metadata": {},
     "output_type": "display_data"
    },
    {
     "data": {
      "text/html": [
       "Find logs at: <code>.\\wandb\\run-20230626_155310-527cv39p\\logs</code>"
      ],
      "text/plain": [
       "<IPython.core.display.HTML object>"
      ]
     },
     "metadata": {},
     "output_type": "display_data"
    }
   ],
   "source": [
    "wandb.finish()"
   ]
  },
  {
   "cell_type": "code",
   "execution_count": 22,
   "metadata": {},
   "outputs": [
    {
     "name": "stdout",
     "output_type": "stream",
     "text": [
      "You are a talkative product manager.\n",
      "\n",
      "Now, you want to add the following new feature:\n",
      "Dual Camera Activation Button\n",
      "Feature description: Enables users to capture photos from both front and back cameras simultaneously.\n",
      "\n",
      "Create a Product Requirement Document (PRD) to add this new feature in the following format. Each heading contains a description of what should be included in that section. Return your output in a markdown format to maintain consistency:\n",
      "\n",
      "1. What Are We Solving For?\n",
      "    Give the high-level reasoning for this proposal. What is the problem or opportunity we’re pursuing? Who is this for? What segments or personas are impacted?\n",
      "\n",
      "2. Why Does It Matter?\n",
      "    Why is this initiative big enough to matter to Customers? What data or studies do we have to support this? \n",
      "\n",
      "3. What Does Success Look Like?\n",
      "    What is the primary metric you’ll use to gauge success of this initiative? What is the target lift/impact to this metric, over what time period?\n",
      "    What are the secondary metric(s) of success?\n",
      "\n",
      "4. Background\n",
      "    Include any necessary background research here, including data analysis, industry research, competitor analysis, quantitative or qualitative customer insights, etc.\n",
      "\n",
      "5. Known Constraints\n",
      "    Where applicable, lay out any constraints that must be taken into account when designing a solution. These constraints may related to usability (i.e. accessibility), time (seasonality), technology (platform capabilities or site performance), legal, and business guardrails. \n",
      "\n",
      "6. Solution Proposal\n",
      "    Given the opportunity, the background, and the constraints, what are we proposing? List bullet points or insert sketches that describe the solution at a high level. If this initiative is successful, what will get better for the customers?\n",
      "\n",
      "7. Risks & Assumptions\n",
      "    What must we assume to be true in order for this initiative to be successful? What developments could cause this initiative to be unsuccessful? Risks include fraud/abuse potential, security…\n",
      "\n",
      "8. Target Customers\n",
      ">   8.1 Market\n",
      "        Detail the specific regions & countries which the Product Development Team needs to build a solution for? Where we can lean into opportunities? Where do we need to mitigate emergent risks?\n",
      ">   8.2 Audience Segments\n",
      "        List the unique customer audiences this solution needs to address uniquely. \n",
      "\n",
      "9. User Experience\n",
      ">   9.1 User Flows\n",
      "        What screens, touch points or experiences that are being considered as part of this initiative? There may be several - and these may cross boundaries of products, experiences and user states. \n",
      "\n",
      "10. High Level Use Cases: Fill it in the given format\n",
      "\n",
      "|    \t| Name                                                       \t| Description                                                                                                                                            \t| PDT or Squad                                                                           \t| Dependency?                                                                 \t| Priority                                    \t| Open Questions,  Notes & Discussions                                             \t|\n",
      "|----\t|------------------------------------------------------------\t|--------------------------------------------------------------------------------------------------------------------------------------------------------\t|----------------------------------------------------------------------------------------\t|-----------------------------------------------------------------------------\t|---------------------------------------------\t|----------------------------------------------------------------------------------\t|\n",
      "| Desc  | Give this use case a name. e.g. Order Lifecycle Management \t| Note: this is not a user story. User stories are much more detailed/granular views of use cases. They represent the requirements & definition of done. \t| Name the Product Development team or squad if you know who will work on this use case. \t| If this use case has a dependency, list the use case # on which it depends. \t| MUST HAVE SHOULD HAVE COULD HAVE WON'T HAVE \t| Important things team members should know / things you're working to figure out. \t|\n",
      "\n",
      "11. Rollout Approach\n",
      "    How will we execute this rollout? Big-bang or gradual scale-up? A/B test or launch-and-measure? \n",
      "    Will the rollout happen in every market at once, or will markets ramp up one by one?\n",
      "    Be inclusive of other key Product Development Team members in having this discussion, in particular Data Analysts, Data Science and Business Ops, along with Developers.\n",
      "    Provide a comprehensive view into the Pros/Cons, what can/cannot be answered as a result, and reasoning behind the decision being made for the rollout approach. \n",
      "\n",
      "12. Measuring Success\n",
      "    If A/B testing, describe the variants being tested, traffic allocations to each variant, and the KPIs being measured in the experiment. \n",
      "    Describe the desired cadence of performance readouts and align with Analytics to ensure it’s covered.\n",
      "    As with the Rollout Approach section, please be sure to socialize this plan with your partners in Analytics, Data Science and Business Operations.\n",
      "\n",
      "13. Competitive Analysis:\n",
      "    List 10 competitors of this application. Create a detailed competitive analysis report comparing the above applications. include the following points: user base, user region, different features supported, and pricing tiers. Don't limit yourself to these categories and think of other categories yourself. Return the output in a well-structured Markdown table. Think step by step\n"
     ]
    }
   ],
   "source": [
    "print(prompts[\"dualcam\"])"
   ]
  },
  {
   "cell_type": "code",
   "execution_count": 21,
   "metadata": {},
   "outputs": [
    {
     "data": {
      "text/markdown": [
       "# Product Requirement Document (PRD) - Dual Camera Activation Button\n",
       "\n",
       "## 1. What Are We Solving For?\n",
       "We are proposing the addition of a Dual Camera Activation Button feature that enables users to capture photos from both front and back cameras simultaneously. This feature aims to provide users with the ability to capture moments from different perspectives in a single shot. It is targeted towards smartphone users who enjoy photography and want to enhance their photo-taking experience.\n",
       "\n",
       "## 2. Why Does It Matter?\n",
       "This initiative matters to customers as it offers a unique and convenient way to capture photos using both front and back cameras simultaneously. It allows users to create more dynamic and creative shots, enhancing their photography experience. Although there is no specific data or studies available to support this feature, it aligns with the growing trend of smartphone photography and the demand for innovative camera features.\n",
       "\n",
       "## 3. What Does Success Look Like?\n",
       "The primary metric to gauge the success of this initiative would be the increase in user engagement with the dual camera feature. The target lift for this metric would be a 20% increase in the number of photos captured using the dual camera activation button within the first three months of its implementation. \n",
       "\n",
       "The secondary metrics of success would include an increase in user satisfaction with the camera functionality, positive user feedback, and an increase in user retention rate.\n",
       "\n",
       "## 4. Background\n",
       "No specific background research or data analysis is available for this feature proposal. However, the popularity of dual camera setups in smartphones and the demand for advanced camera features indicate a potential market interest in this functionality.\n",
       "\n",
       "## 5. Known Constraints\n",
       "- Usability: The solution should ensure accessibility and ease of use for all users, including those with disabilities.\n",
       "- Technology: The availability and capabilities of dual camera setups may vary across different smartphone models and operating systems. The solution should be designed to work seamlessly with a wide range of devices.\n",
       "- Legal: The solution should comply with privacy regulations and ensure that users' privacy is protected during the photo capture process.\n",
       "\n",
       "## 6. Solution Proposal\n",
       "- Add a dedicated Dual Camera Activation Button within the camera app interface.\n",
       "- Enable users to switch between single camera mode and dual camera mode with a single tap.\n",
       "- Provide an intuitive user interface that allows users to preview and adjust the composition of both front and back camera views simultaneously.\n",
       "- Implement automatic synchronization of exposure and focus settings between the front and back cameras.\n",
       "- Allow users to capture photos using both cameras simultaneously by tapping the Dual Camera Activation Button.\n",
       "\n",
       "If this initiative is successful, customers will have a more versatile and creative tool for capturing photos, resulting in more engaging and visually appealing images.\n",
       "\n",
       "## 7. Risks & Assumptions\n",
       "- Assumption: Users will find value in capturing photos from both front and back cameras simultaneously.\n",
       "- Risk: The dual camera activation feature may not be compatible with all smartphone models or operating systems, limiting its adoption.\n",
       "- Risk: Users may find the dual camera activation process confusing or cumbersome, leading to a decrease in user satisfaction.\n",
       "\n",
       "## 8. Target Customers\n",
       "### 8.1 Market\n",
       "The Product Development Team needs to build a solution that caters to smartphone users globally. The solution should be designed to work across different regions and countries, leveraging opportunities in the growing smartphone photography market.\n",
       "\n",
       "### 8.2 Audience Segments\n",
       "- Photography enthusiasts who want to explore new creative possibilities.\n",
       "- Social media users who want to capture more engaging and visually appealing photos for sharing.\n",
       "- Travelers who want to capture both their surroundings and their own reactions simultaneously.\n",
       "\n",
       "## 9. User Experience\n",
       "### 9.1 User Flows\n",
       "- User opens the camera app.\n",
       "- User taps the Dual Camera Activation Button to switch to dual camera mode.\n",
       "- User adjusts the composition and settings for both front and back cameras.\n",
       "- User taps the capture button to take a photo using both cameras simultaneously.\n",
       "\n",
       "## 10. High Level Use Cases:\n",
       "\n",
       "|    \t| Name                                                       \t| Description                                                                                                                                            \t| PDT or Squad                                                                           \t| Dependency?                                                                 \t| Priority                                    \t| Open Questions,  Notes & Discussions                                             \t|\n",
       "|----\t|------------------------------------------------------------\t|--------------------------------------------------------------------------------------------------------------------------------------------------------\t|----------------------------------------------------------------------------------------\t|-----------------------------------------------------------------------------\t|---------------------------------------------\t|----------------------------------------------------------------------------------\t|\n",
       "| 1 \t| Dual Camera Activation                                     \t| Allows users to capture photos from both front and back cameras simultaneously.                                                                         \t| Camera Development Team                                                                \t| -                                                                           \t| MUST HAVE                                    \t| -                                                                                \t|\n",
       "| 2 \t| Dual Camera Composition Adjustment                         \t| Enables users to adjust the composition and settings for both front and back cameras in dual camera mode.                                              \t| Camera Development Team                                                                \t| 1 (Dual Camera Activation)                                                   \t| MUST HAVE                                    \t| -                                                                                \t|\n",
       "| 3 \t| Dual Camera Synchronization                                \t| Implements automatic synchronization of exposure and focus settings between the front and back cameras in dual camera mode.                           \t| Camera Development Team                                                                \t| 1 (Dual Camera Activation)                                                   \t| MUST HAVE                                    \t| -                                                                                \t|\n",
       "| 4 \t| Dual Camera Capture                                         \t| Allows users to capture photos using both front and back cameras simultaneously by tapping the Dual Camera Activation Button.                          \t| Camera Development Team                                                                \t| 1 (Dual Camera Activation)                                                   \t| MUST HAVE                                    \t| -                                                                                \t|\n",
       "\n",
       "## 11. Rollout Approach\n",
       "The rollout approach for this feature will be a gradual scale-up. The feature will be initially launched as an A/B test in a selected market to evaluate its performance and gather user feedback. Based on the results and feedback, the rollout will be expanded to additional markets.\n",
       "\n",
       "The A/B test will involve randomly assigning a portion of users to the experimental group, which will have access to the dual camera activation feature, while the control group will not have access. The performance will be measured based on user engagement metrics, user satisfaction surveys, and feedback.\n",
       "\n",
       "## 12. Measuring Success\n",
       "In the A/B test, the experimental variant will include the dual camera activation feature, while the control variant will not have access to it. The traffic allocation will be 50% for each variant.\n",
       "\n",
       "The key performance indicators (KPIs) to be measured in the experiment include:\n",
       "- Increase in the number of photos captured using the dual camera activation button\n",
       "- User engagement metrics (e.g., time spent in the camera app, frequency of camera usage)\n",
       "- User satisfaction surveys and feedback\n",
       "\n",
       "Performance readouts will be conducted on a weekly basis, and the results will be shared with the Analytics, Data Science, and Business Operations teams.\n",
       "\n",
       "## 13. Competitive Analysis:\n",
       "\n",
       "| Application \t| User Base \t| User Region \t| Different Features Supported                                                                                                                            \t| Pricing Tiers                                                                                         \t|\n",
       "|-------------\t|-----------\t|-------------\t|--------------------------------------------------------------------------------------------------------------------------------------------------------\t|-------------------------------------------------------------------------------------------------------\t|\n",
       "| App 1       \t| 10 million \t| Global      \t| - Dual camera support<br>- Advanced editing tools<br>- Social media integration<br>- Filters and effects<br>- Photo sharing<br>- In-app purchases      \t| Free<br>- Premium: $4.99/month<br>- Pro: $9.99/month                                                 \t|\n",
       "| App 2       \t| 5 million  \t| North America \t| - Dual camera support<br>- Live photo mode<br>- AR filters<br>- Collage maker<br>- Photo editing<br>- Cloud storage<br>- Social media sharing             \t| Free<br>- Basic: $2.99/month<br>- Premium: $6.99/month                                             \t|\n",
       "| App 3       \t| 8 million  \t| Europe      \t| - Dual camera support<br>- Portrait mode<br>- AI-powered filters<br>- Photo editing<br>- Photo albums<br>- Social media integration<br>- In-app purchases \t| Free<br>- Premium: $3.99/month<br>- Pro: $7.99/month                                                 \t|\n",
       "| App 4       \t| 12 million \t| Asia        \t| - Dual camera support<br>- Beauty mode<br>- Stickers and emojis<br>- Photo editing<br>- Photo sharing<br>- In-app purchases                             \t| Free<br>- Premium: $2.99/month<br>- Pro: $5.99/month                                                 \t|\n",
       "| App 5       \t| 6 million  \t| South America \t| - Dual camera support<br>- Panorama mode<br>- Filters and effects<br>- Photo editing<br>- Social media sharing<br>- In-app purchases                    \t| Free<br>- Basic: $1.99/month<br>- Premium: $4.99/month                                             \t|\n",
       "| App 6       \t| 3 million  \t| Africa      \t| - Dual camera support<br>- Selfie mode<br>- Photo editing<br>- Photo albums<br>- Social media integration<br>- In-app purchases                         \t| Free<br>- Premium: $2.99/month<br>- Pro: $6.99/month                                                 \t|\n",
       "| App 7       \t| 7 million  \t| Australia   \t| - Dual camera support<br>- Slow motion mode<br>- Filters and effects<br>- Photo editing<br>- Photo sharing<br>- In-app purchases                       \t| Free<br>- Basic: $3.99/month<br>- Premium: $7.99/month                                             \t|\n",
       "| App 8       \t| 9 million  \t| Middle East \t| - Dual camera support<br>- Night mode<br>- AR stickers<br>- Photo editing<br>- Photo albums<br>- Social media sharing<br>- In-app purchases            \t| Free<br>- Premium: $4.99/month<br>- Pro: $9.99/month                                                 \t|\n",
       "| App 9       \t| 4 million  \t| Central America \t| - Dual camera support<br>- HDR mode<br>- Filters and effects<br>- Photo editing<br>- Photo sharing<br>- In-app purchases                               \t| Free<br>- Basic: $2.99/month<br>- Premium: $5.99/month                                             \t|\n",
       "| App 10      \t| 2 million  \t| Caribbean   \t| - Dual camera support<br>- Panorama mode<br>- Beauty mode<br>- Photo editing<br>- Social media integration<br>- In-app purchases                         \t| Free<br>- Premium: $3.99/month<br>- Pro: $8.99/month                                                 \t|"
      ],
      "text/plain": [
       "<IPython.core.display.Markdown object>"
      ]
     },
     "metadata": {},
     "output_type": "display_data"
    }
   ],
   "source": [
    "from IPython.display import Markdown, display\n",
    "\n",
    "display(Markdown(outputs[\"dualcam\"]))"
   ]
  }
 ],
 "metadata": {
  "kernelspec": {
   "display_name": "synap_labs_env",
   "language": "python",
   "name": "python3"
  },
  "language_info": {
   "codemirror_mode": {
    "name": "ipython",
    "version": 3
   },
   "file_extension": ".py",
   "mimetype": "text/x-python",
   "name": "python",
   "nbconvert_exporter": "python",
   "pygments_lexer": "ipython3",
   "version": "3.10.5"
  },
  "orig_nbformat": 4
 },
 "nbformat": 4,
 "nbformat_minor": 2
}
