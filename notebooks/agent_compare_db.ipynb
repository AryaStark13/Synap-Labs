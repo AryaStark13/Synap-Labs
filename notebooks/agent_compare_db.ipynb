{
 "cells": [
  {
   "cell_type": "code",
   "execution_count": 1,
   "metadata": {},
   "outputs": [],
   "source": [
    "wandb_features = \"\"\"Weights & Biases (W&B) is a machine learning experiment tracking tool that helps you track, visualize, and analyze your experiments. It provides a number of features that make it a valuable tool for ML practitioners, including:\n",
    "\n",
    "Lightweight experiment tracking: W&B is a lightweight tool that can be easily integrated into your existing ML workflow. It does not require any changes to your code, and it can be used with a variety of ML frameworks.\n",
    "Collaborative dashboards: W&B allows you to collaborate with others on your experiments. You can share your dashboards and reports with your team, and you can even collaborate on the same experiment in real time.\n",
    "Artifacts: W&B allows you to store and share artifacts from your experiments, such as code, data, and models. This makes it easy to reproduce your experiments and to share your results with others.\n",
    "Interactive data visualization: W&B provides a variety of interactive data visualization tools that allow you to explore your experiment data in depth. You can visualize your metrics, hyperparameters, and code changes over time, and you can create custom dashboards to track your progress.\n",
    "Hyperparameter optimization: W&B can help you optimize your hyperparameters using a variety of techniques, such as grid search and Bayesian optimization. This can help you find the best hyperparameters for your model and improve your model performance.\n",
    "Overall, W&B is a powerful tool that can help you track, visualize, and analyze your ML experiments. It is a valuable tool for ML practitioners who want to improve their experimental workflow and get the most out of their data.\n",
    "\n",
    "Here are some additional features of W&B Experiment Tracking:\n",
    "\n",
    "Sweeps: Sweeps allow you to automate the hyperparameter optimization process. You can define a range of values for each hyperparameter, and W&B will run your experiment for each combination of hyperparameters. This can save you a lot of time and effort, and it can help you find the best hyperparameters for your model more quickly.\n",
    "Models: W&B allows you to store and share your models. You can upload your models to W&B, and you can share them with others. This makes it easy to deploy your models to production and to share your models with others.\n",
    "Reports: W&B allows you to create reports of your experiments. These reports can be used to document your experiments and to share your results with others.\n",
    "W&B Experiment Tracking is a powerful tool that can help you track, visualize, and analyze your ML experiments. It is a valuable tool for ML practitioners who want to improve their experimental workflow and get the most out of their data.\"\"\"\n",
    "\n",
    "tensorboard_features = \"\"\"TensorBoard Experiment Tracking is a tool that helps you track, visualize, and analyze your machine learning experiments. It provides a number of features that make it a valuable tool for ML practitioners, including:\n",
    "\n",
    "Tracking and visualizing metrics: TensorBoard allows you to track and visualize a variety of metrics from your experiments, such as loss, accuracy, and AUC. You can also visualize the distribution of your data and the relationships between different variables.\n",
    "Visualizing the model graph: TensorBoard allows you to visualize the model graph, which shows the relationships between different layers in your model. This can help you understand how your model works and identify potential problems.\n",
    "Projecting embeddings: TensorBoard allows you to project embeddings to a lower dimensional space. This can help you visualize the relationships between different data points and identify clusters of similar data.\n",
    "Profiling TensorFlow programs: TensorBoard allows you to profile TensorFlow programs, which can help you identify bottlenecks in your code.\n",
    "Sharing experiments: TensorBoard allows you to share your experiments with others. This can be helpful for collaborating with others on experiments or for documenting your experiments.\n",
    "Overall, TensorBoard Experiment Tracking is a powerful tool that can help you track, visualize, and analyze your machine learning experiments. It is a valuable tool for ML practitioners who want to improve their experimental workflow and get the most out of their data.\n",
    "\n",
    "Here are some additional features of TensorBoard Experiment Tracking:\n",
    "\n",
    "Collections: Collections allow you to organize your experiment data into groups. This can help you keep track of your data and make it easier to find the data you need.\n",
    "Experiment tags: Experiment tags allow you to add metadata to your experiments. This can help you keep track of different versions of your experiments and identify important experiments.\n",
    "Remote logging: TensorBoard Experiment Tracking can be used to log data to a remote server. This can be helpful if you want to share your experiment data with others or if you want to store your experiment data in the cloud.\n",
    "TensorBoard Experiment Tracking is a powerful tool that can help you track, visualize, and analyze your machine learning experiments. It is a valuable tool for ML practitioners who want to improve their experimental workflow and get the most out of their data.\"\"\""
   ]
  },
  {
   "cell_type": "code",
   "execution_count": 2,
   "metadata": {},
   "outputs": [],
   "source": [
    "from langchain.embeddings.openai import OpenAIEmbeddings\n",
    "from langchain.vectorstores import Chroma\n",
    "from langchain.text_splitter import CharacterTextSplitter\n",
    "from langchain import OpenAI, VectorDBQA\n",
    "\n",
    "llm = OpenAI(\n",
    "    model=\"text-davinci-003\",\n",
    "    temperature=0\n",
    ")"
   ]
  },
  {
   "cell_type": "code",
   "execution_count": 5,
   "metadata": {},
   "outputs": [
    {
     "name": "stderr",
     "output_type": "stream",
     "text": [
      "Created a chunk of size 1400, which is longer than the specified 1000\n",
      "Created a chunk of size 1303, which is longer than the specified 1000\n"
     ]
    }
   ],
   "source": [
    "text_splitter = CharacterTextSplitter(\n",
    "    separator=\"\\n\\n\",\n",
    "    chunk_size = 1000,\n",
    "    chunk_overlap  = 0,\n",
    ")\n",
    "\n",
    "embeddings = OpenAIEmbeddings()\n",
    "\n",
    "documents = text_splitter.create_documents([wandb_features, tensorboard_features], metadatas=[{\"source\": \"instagram\"}, {\"source\": \"snapchat\"}])\n",
    "\n",
    "document_db = Chroma.from_documents(documents, embeddings)"
   ]
  },
  {
   "cell_type": "code",
   "execution_count": 6,
   "metadata": {},
   "outputs": [],
   "source": [
    "from langchain.agents.agent_toolkits import (\n",
    "    create_vectorstore_agent,\n",
    "    VectorStoreToolkit,\n",
    "    VectorStoreInfo,\n",
    ")"
   ]
  },
  {
   "cell_type": "code",
   "execution_count": 7,
   "metadata": {},
   "outputs": [],
   "source": [
    "vectorstore_info = VectorStoreInfo(\n",
    "    name=\"document_db\",\n",
    "    description=\"A vectorstore containing the wandb and tensorboard features database.\",\n",
    "    vectorstore=document_db,\n",
    ")\n",
    "toolkit = VectorStoreToolkit(vectorstore_info=vectorstore_info)\n",
    "agent_executor = create_vectorstore_agent(llm=llm, toolkit=toolkit, verbose=True)"
   ]
  },
  {
   "cell_type": "code",
   "execution_count": 16,
   "metadata": {},
   "outputs": [
    {
     "name": "stdout",
     "output_type": "stream",
     "text": [
      "\n",
      "\n",
      "\u001b[1m> Entering new AgentExecutor chain...\u001b[0m\n",
      "\u001b[32;1m\u001b[1;3m I need to compare the features of wandb and tensorboard\n",
      "Action: document_db\n",
      "Action Input: compare the features of wandb and tensorboard\u001b[0m\n",
      "Observation: \u001b[36;1m\u001b[1;3m TensorBoard Experiment Tracking provides features such as tracking and visualizing metrics, visualizing the model graph, projecting embeddings, profiling TensorFlow programs, and sharing experiments. W&B provides features such as lightweight experiment tracking, collaborative dashboards, artifacts, interactive data visualization, and hyperparameter optimization.\u001b[0m\n",
      "Thought:\u001b[32;1m\u001b[1;3m I now know the final answer\n",
      "Final Answer: +-----------+--------------------+-------------+\n",
      "| Sr. No.   | Weights and Biases | TensorBoard |\n",
      "+-----------+--------------------+-------------+\n",
      "| Experiment Tracking | Lightweight experiment tracking | Tracking and visualizing metrics, visualizing the model graph, projecting embeddings, profiling TensorFlow programs, and sharing experiments |\n",
      "+-----------+--------------------+-------------+\n",
      "| Dashboards | Collaborative dashboards | - |\n",
      "+-----------+--------------------+-------------+\n",
      "| Artifacts | Artifacts | - |\n",
      "+-----------+--------------------+-------------+\n",
      "| Data Visualization | Interactive data visualization | - |\n",
      "+-----------+--------------------+-------------+\n",
      "| Hyperparameter Optimization | Hyperparameter optimization | - |\n",
      "+-----------+--------------------+-------------+\u001b[0m\n",
      "\n",
      "\u001b[1m> Finished chain.\u001b[0m\n"
     ]
    }
   ],
   "source": [
    "res = agent_executor.run(\"\"\"\\\n",
    "compare the features of wandb and tensorboard. what are the differences? return the output in the following format: \n",
    "+-----------+--------------------+-------------+\n",
    "| Sr. No.   | Weights and Biases | TensorBoard |\n",
    "+-----------+--------------------+-------------+\n",
    "| feature 1 |                    |             |\n",
    "+-----------+--------------------+-------------+\n",
    "| feature 2 |                    |             |\n",
    "+-----------+--------------------+-------------+ \"\"\")"
   ]
  },
  {
   "cell_type": "code",
   "execution_count": 17,
   "metadata": {},
   "outputs": [
    {
     "name": "stdout",
     "output_type": "stream",
     "text": [
      "+-----------+--------------------+-------------+\n",
      "| Sr. No.   | Weights and Biases | TensorBoard |\n",
      "+-----------+--------------------+-------------+\n",
      "| Experiment Tracking | Lightweight experiment tracking | Tracking and visualizing metrics, visualizing the model graph, projecting embeddings, profiling TensorFlow programs, and sharing experiments |\n",
      "+-----------+--------------------+-------------+\n",
      "| Dashboards | Collaborative dashboards | - |\n",
      "+-----------+--------------------+-------------+\n",
      "| Artifacts | Artifacts | - |\n",
      "+-----------+--------------------+-------------+\n",
      "| Data Visualization | Interactive data visualization | - |\n",
      "+-----------+--------------------+-------------+\n",
      "| Hyperparameter Optimization | Hyperparameter optimization | - |\n",
      "+-----------+--------------------+-------------+\n"
     ]
    }
   ],
   "source": [
    "print(res)"
   ]
  }
 ],
 "metadata": {
  "kernelspec": {
   "display_name": "synap_labs_env",
   "language": "python",
   "name": "python3"
  },
  "language_info": {
   "codemirror_mode": {
    "name": "ipython",
    "version": 3
   },
   "file_extension": ".py",
   "mimetype": "text/x-python",
   "name": "python",
   "nbconvert_exporter": "python",
   "pygments_lexer": "ipython3",
   "version": "3.10.5"
  },
  "orig_nbformat": 4
 },
 "nbformat": 4,
 "nbformat_minor": 2
}
