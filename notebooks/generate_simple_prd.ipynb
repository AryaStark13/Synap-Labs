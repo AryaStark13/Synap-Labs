{
 "cells": [
  {
   "cell_type": "code",
   "execution_count": 1,
   "metadata": {},
   "outputs": [],
   "source": [
    "import langchain\n",
    "from langchain.llms import OpenAI\n",
    "from langchain.prompts import PromptTemplate, load_prompt\n",
    "from langchain.agents import load_tools, initialize_agent\n",
    "import openai\n",
    "import os\n",
    "import wandb\n",
    "from wandb.integration.langchain import WandbTracer\n",
    "import json"
   ]
  },
  {
   "cell_type": "code",
   "execution_count": 2,
   "metadata": {},
   "outputs": [
    {
     "name": "stderr",
     "output_type": "stream",
     "text": [
      "Failed to detect the name of this notebook, you can set it manually with the WANDB_NOTEBOOK_NAME environment variable to enable code saving.\n",
      "\u001b[34m\u001b[1mwandb\u001b[0m: Currently logged in as: \u001b[33marihantsheth\u001b[0m. Use \u001b[1m`wandb login --relogin`\u001b[0m to force relogin\n"
     ]
    },
    {
     "data": {
      "text/html": [
       "Tracking run with wandb version 0.15.4"
      ],
      "text/plain": [
       "<IPython.core.display.HTML object>"
      ]
     },
     "metadata": {},
     "output_type": "display_data"
    },
    {
     "data": {
      "text/html": [
       "Run data is saved locally in <code>c:\\Users\\ariha\\Desktop\\Synap Labs\\wandb\\run-20230607_145401-uj84b0gm</code>"
      ],
      "text/plain": [
       "<IPython.core.display.HTML object>"
      ]
     },
     "metadata": {},
     "output_type": "display_data"
    },
    {
     "data": {
      "text/html": [
       "Syncing run <strong><a href='https://wandb.ai/arihantsheth/generate_simple_prd/runs/uj84b0gm' target=\"_blank\">generate_multiple_prd_1</a></strong> to <a href='https://wandb.ai/arihantsheth/generate_simple_prd' target=\"_blank\">Weights & Biases</a> (<a href='https://wandb.me/run' target=\"_blank\">docs</a>)<br/>"
      ],
      "text/plain": [
       "<IPython.core.display.HTML object>"
      ]
     },
     "metadata": {},
     "output_type": "display_data"
    },
    {
     "data": {
      "text/html": [
       " View project at <a href='https://wandb.ai/arihantsheth/generate_simple_prd' target=\"_blank\">https://wandb.ai/arihantsheth/generate_simple_prd</a>"
      ],
      "text/plain": [
       "<IPython.core.display.HTML object>"
      ]
     },
     "metadata": {},
     "output_type": "display_data"
    },
    {
     "data": {
      "text/html": [
       " View run at <a href='https://wandb.ai/arihantsheth/generate_simple_prd/runs/uj84b0gm' target=\"_blank\">https://wandb.ai/arihantsheth/generate_simple_prd/runs/uj84b0gm</a>"
      ],
      "text/plain": [
       "<IPython.core.display.HTML object>"
      ]
     },
     "metadata": {},
     "output_type": "display_data"
    },
    {
     "data": {
      "text/html": [
       "<button onClick=\"this.nextSibling.style.display='block';this.style.display='none';\">Display W&B run</button><iframe src='https://wandb.ai/arihantsheth/generate_simple_prd/runs/uj84b0gm?jupyter=true' style='border:none;width:100%;height:420px;display:none;'></iframe>"
      ],
      "text/plain": [
       "<wandb.sdk.wandb_run.Run at 0x1ecaa148400>"
      ]
     },
     "execution_count": 2,
     "metadata": {},
     "output_type": "execute_result"
    }
   ],
   "source": [
    "wandb.init(\n",
    "    project=\"generate_simple_prd\",\n",
    "    config={\n",
    "        \"model\": \"gpt-3.5-turbo\",\n",
    "        \"temperature\": 0\n",
    "    },\n",
    "    entity=\"arihantsheth\",\n",
    "    name=\"generate_multiple_prd_1\"\n",
    ")"
   ]
  },
  {
   "cell_type": "code",
   "execution_count": null,
   "metadata": {},
   "outputs": [],
   "source": [
    "llm = OpenAI(model_name=\"gpt-3.5-turbo\", temperature=0)\n",
    "\n",
    "prompt_template = load_prompt(\"./prompt_templates/generate_prd_template.json\")"
   ]
  },
  {
   "cell_type": "code",
   "execution_count": 4,
   "metadata": {},
   "outputs": [],
   "source": [
    "prompt_input_variables = {\n",
    "    \"wandb\": dict(\n",
    "        company_name=\"Weights and Biases\",\n",
    "        company_desc=\"A leading AI startup specializing in experiment tracking, data versioning, hyperparameter tuning, and much more.\",\n",
    "        existing_feature_list=\"1. System and custom metrics logging\\n2. Real-time experiment visualization\\n3. Comparing different hyperparameter results\\n4. Automated sweeps over different hyperparameters\\n5. Shareability by creating reports\\n6. Data version Control\",\n",
    "        new_feature=\"Model Explainability Toolkit (MXT)\",\n",
    "        new_feature_desc=\"Enables users to interpret and explain the outputs and decision-making of their AI Models.\"\n",
    "    ),\n",
    "    \"langchain\": dict(\n",
    "        company_name=\"Langchain\",\n",
    "        company_desc=\"A young AI startup making it easier to use and connect Large Language Models (LLMs) to other tools such as Vector Database, Agents, Prompt Templates, and more.\",\n",
    "        existing_feature_list=\"1. Models: A suite of pretrained LLMs\\n2. Prompts: Templates for prompt engineering and prompt tuning\\n3. Memory: Ability to connect LLMs to vector databases\\n4. Indexes: Text splitters\\n5. Chains: Chain multiple prompts and LLMs together\\n6. Agents: Drives decision making processes using LLMs\",\n",
    "        new_feature=\"Model Training Wizard (MTW)\",\n",
    "        new_feature_desc=\" A user-friendly interface that guides users through the process of training their own custom language models. It would provide step-by-step instructions, dataset management tools, and performance evaluation metrics to help users create high-quality models tailored to their specific needs.\"\n",
    "    )\n",
    "}"
   ]
  },
  {
   "cell_type": "code",
   "execution_count": 5,
   "metadata": {},
   "outputs": [],
   "source": [
    "prompts = dict()\n",
    "for company in prompt_input_variables:\n",
    "    prompts[company] = prompt_template.format(**prompt_input_variables[company])"
   ]
  },
  {
   "cell_type": "code",
   "execution_count": 9,
   "metadata": {},
   "outputs": [],
   "source": [
    "with open(\"./company_prompts/prompt_inputs.json\", \"w\") as f:\n",
    "    json.dump(prompt_input_variables, f)\n",
    "\n",
    "with open(\"./company_prompts/prompts.json\", \"w\") as f:\n",
    "    json.dump(prompts, f)"
   ]
  },
  {
   "cell_type": "code",
   "execution_count": 7,
   "metadata": {},
   "outputs": [
    {
     "name": "stdout",
     "output_type": "stream",
     "text": [
      "Generating PRD for wandb...\n",
      "Generating PRD for langchain...\n"
     ]
    }
   ],
   "source": [
    "outputs = dict()\n",
    "\n",
    "for company in prompts:\n",
    "    print(f\"Generating PRD for {company}...\")\n",
    "    prompt = prompts[company]\n",
    "    \n",
    "    try:\n",
    "        output = llm(prompt, callbacks=[WandbTracer()])\n",
    "    except Exception as e:\n",
    "        print(e)\n",
    "        output = f\"ERROR: {e}\"\n",
    "\n",
    "    outputs[company] = output\n",
    "    wandb.log({f\"{company}_prd\": output})"
   ]
  },
  {
   "cell_type": "code",
   "execution_count": 8,
   "metadata": {},
   "outputs": [],
   "source": [
    "for company in outputs:\n",
    "    with open(f\"./generated_prds/{company}_prd.md\", \"w\") as f:\n",
    "        f.write(outputs[company])"
   ]
  },
  {
   "cell_type": "code",
   "execution_count": 10,
   "metadata": {},
   "outputs": [
    {
     "data": {
      "text/html": [
       "Waiting for W&B process to finish... <strong style=\"color:green\">(success).</strong>"
      ],
      "text/plain": [
       "<IPython.core.display.HTML object>"
      ]
     },
     "metadata": {},
     "output_type": "display_data"
    },
    {
     "data": {
      "text/html": [
       "<style>\n",
       "    table.wandb td:nth-child(1) { padding: 0 10px; text-align: left ; width: auto;} td:nth-child(2) {text-align: left ; width: 100%}\n",
       "    .wandb-row { display: flex; flex-direction: row; flex-wrap: wrap; justify-content: flex-start; width: 100% }\n",
       "    .wandb-col { display: flex; flex-direction: column; flex-basis: 100%; flex: 1; padding: 10px; }\n",
       "    </style>\n",
       "<div class=\"wandb-row\"><div class=\"wandb-col\"><h3>Run summary:</h3><br/><table class=\"wandb\"><tr><td>langchain_prd</td><td># Product Requiremen...</td></tr><tr><td>wandb_prd</td><td># Product Requiremen...</td></tr></table><br/></div></div>"
      ],
      "text/plain": [
       "<IPython.core.display.HTML object>"
      ]
     },
     "metadata": {},
     "output_type": "display_data"
    },
    {
     "data": {
      "text/html": [
       " View run <strong style=\"color:#cdcd00\">generate_multiple_prd_1</strong> at: <a href='https://wandb.ai/arihantsheth/generate_simple_prd/runs/uj84b0gm' target=\"_blank\">https://wandb.ai/arihantsheth/generate_simple_prd/runs/uj84b0gm</a><br/>Synced 5 W&B file(s), 0 media file(s), 0 artifact file(s) and 0 other file(s)"
      ],
      "text/plain": [
       "<IPython.core.display.HTML object>"
      ]
     },
     "metadata": {},
     "output_type": "display_data"
    },
    {
     "data": {
      "text/html": [
       "Find logs at: <code>.\\wandb\\run-20230607_145401-uj84b0gm\\logs</code>"
      ],
      "text/plain": [
       "<IPython.core.display.HTML object>"
      ]
     },
     "metadata": {},
     "output_type": "display_data"
    }
   ],
   "source": [
    "wandb.finish()"
   ]
  }
 ],
 "metadata": {
  "kernelspec": {
   "display_name": "synap_labs_env",
   "language": "python",
   "name": "python3"
  },
  "language_info": {
   "codemirror_mode": {
    "name": "ipython",
    "version": 3
   },
   "file_extension": ".py",
   "mimetype": "text/x-python",
   "name": "python",
   "nbconvert_exporter": "python",
   "pygments_lexer": "ipython3",
   "version": "3.10.5"
  },
  "orig_nbformat": 4
 },
 "nbformat": 4,
 "nbformat_minor": 2
}
