{
 "cells": [
  {
   "cell_type": "code",
   "execution_count": 17,
   "metadata": {},
   "outputs": [],
   "source": [
    "# flake8: noqa\n",
    "from langchain.prompts.prompt import PromptTemplate\n",
    "\n",
    "EXAMPLES = [\n",
    "    \"\"\"Question: What is the elevation range for the area that the eastern sector of the Colorado orogeny extends into?\n",
    "Thought: I need to search Colorado orogeny, find the area that the eastern sector of the Colorado orogeny extends into, then find the elevation range of the area.\n",
    "Action: Search[Colorado orogeny]\n",
    "Observation: The Colorado orogeny was an episode of mountain building (an orogeny) in Colorado and surrounding areas.\n",
    "Thought: It does not mention the eastern sector. So I need to look up eastern sector.\n",
    "Action: Lookup[eastern sector]\n",
    "Observation: (Result 1 / 1) The eastern sector extends into the High Plains and is called the Central Plains orogeny.\n",
    "Thought: The eastern sector of Colorado orogeny extends into the High Plains. So I need to search High Plains and find its elevation range.\n",
    "Action: Search[High Plains]\n",
    "Observation: High Plains refers to one of two distinct land regions\n",
    "Thought: I need to instead search High Plains (United States).\n",
    "Action: Search[High Plains (United States)]\n",
    "Observation: The High Plains are a subregion of the Great Plains. From east to west, the High Plains rise in elevation from around 1,800 to 7,000 ft (550 to 2,130 m).[3]\n",
    "Thought: High Plains rise in elevation from around 1,800 to 7,000 ft, so the answer is 1,800 to 7,000 ft.\n",
    "Action: Finish[1,800 to 7,000 ft]\"\"\",\n",
    "    \"\"\"Question: Musician and satirist Allie Goertz wrote a song about the \"The Simpsons\" character Milhouse, who Matt Groening named after who?\n",
    "Thought: The question simplifies to \"The Simpsons\" character Milhouse is named after who. I only need to search Milhouse and find who it is named after.\n",
    "Action: Search[Milhouse]\n",
    "Observation: Milhouse Mussolini Van Houten is a recurring character in the Fox animated television series The Simpsons voiced by Pamela Hayden and created by Matt Groening.\n",
    "Thought: The paragraph does not tell who Milhouse is named after, maybe I can look up \"named after\".\n",
    "Action: Lookup[named after]\n",
    "Observation: (Result 1 / 1) Milhouse was named after U.S. president Richard Nixon, whose middle name was Milhous.\n",
    "Thought: Milhouse was named after U.S. president Richard Nixon, so the answer is Richard Nixon.\n",
    "Action: Finish[Richard Nixon]\"\"\",\n",
    "    \"\"\"Question: Which documentary is about Finnish rock groups, Adam Clayton Powell or The Saimaa Gesture?\n",
    "Thought: I need to search Adam Clayton Powell and The Saimaa Gesture, and find which documentary is about Finnish rock groups.\n",
    "Action: Search[Adam Clayton Powell]\n",
    "Observation: Could not find [Adam Clayton Powell]. Similar: [’Adam Clayton Powell III’, ’Seventh Avenue (Manhattan)’, ’Adam Clayton Powell Jr. State Office Building’, ’Isabel Washington Powell’, ’Adam Powell’, ’Adam Clayton Powell (film)’, ’Giancarlo Esposito’].\n",
    "Thought: To find the documentary, I can search Adam Clayton Powell (film).\n",
    "Action: Search[Adam Clayton Powell (film)]\n",
    "Observation: Adam Clayton Powell is a 1989 American documentary film directed by Richard Kilberg. The film is about the rise and fall of influential African-American politician Adam Clayton Powell Jr.[3][4] It was later aired as part of the PBS series The American Experience.\n",
    "Thought: Adam Clayton Powell (film) is a documentary about an African-American politician, not Finnish rock groups. So the documentary about Finnish rock groups must instead be The Saimaa Gesture.\n",
    "Action: Finish[The Saimaa Gesture]\"\"\",\n",
    "    \"\"\"Question: What profession does Nicholas Ray and Elia Kazan have in common?\n",
    "Thought: I need to search Nicholas Ray and Elia Kazan, find their professions, then find the profession they have in common.\n",
    "Action: Search[Nicholas Ray]\n",
    "Observation: Nicholas Ray (born Raymond Nicholas Kienzle Jr., August 7, 1911 - June 16, 1979) was an American film director, screenwriter, and actor best known for the 1955 film Rebel Without a Cause.\n",
    "Thought: Professions of Nicholas Ray are director, screenwriter, and actor. I need to search Elia Kazan next and find his professions.\n",
    "Action: Search[Elia Kazan]\n",
    "Observation: Elia Kazan was an American film and theatre director, producer, screenwriter and actor.\n",
    "Thought: Professions of Elia Kazan are director, producer, screenwriter, and actor. So profession Nicholas Ray and Elia Kazan have in common is director, screenwriter, and actor.\n",
    "Action: Finish[director, screenwriter, actor]\"\"\",\n",
    "    \"\"\"Question: Which magazine was started first Arthur’s Magazine or First for Women?\n",
    "Thought: I need to search Arthur’s Magazine and First for Women, and find which was started first.\n",
    "Action: Search[Arthur’s Magazine]\n",
    "Observation: Arthur’s Magazine (1844-1846) was an American literary periodical published in Philadelphia in the 19th century.\n",
    "Thought: Arthur’s Magazine was started in 1844. I need to search First for Women next.\n",
    "Action: Search[First for Women]\n",
    "Observation: First for Women is a woman’s magazine published by Bauer Media Group in the USA.[1] The magazine was started in 1989.\n",
    "Thought: First for Women was started in 1989. 1844 (Arthur’s Magazine) < 1989 (First for Women), so Arthur’s Magazine was started first.\n",
    "Action: Finish[Arthur’s Magazine]\"\"\",\n",
    "    \"\"\"Question: Were Pavel Urysohn and Leonid Levin known for the same type of work?\n",
    "Thought: I need to search Pavel Urysohn and Leonid Levin, find their types of work, then find if they are the same.\n",
    "Action: Search[Pavel Urysohn]\n",
    "Observation: Pavel Samuilovich Urysohn (February 3, 1898 - August 17, 1924) was a Soviet mathematician who is best known for his contributions in dimension theory.\n",
    "Thought: Pavel Urysohn is a mathematician. I need to search Leonid Levin next and find its type of work.\n",
    "Action: Search[Leonid Levin]\n",
    "Observation: Leonid Anatolievich Levin is a Soviet-American mathematician and computer scientist.\n",
    "Thought: Leonid Levin is a mathematician and computer scientist. So Pavel Urysohn and Leonid Levin have the same type of work.\n",
    "Action: Finish[yes]\"\"\",\n",
    "]\n",
    "SUFFIX = \"\"\"\\nQuestion: {input}\n",
    "{agent_scratchpad}\"\"\"\n",
    "\n",
    "WIKI_PROMPT = PromptTemplate.from_examples(\n",
    "    EXAMPLES, SUFFIX, [\"input\", \"agent_scratchpad\"]\n",
    ")"
   ]
  },
  {
   "cell_type": "code",
   "execution_count": 19,
   "metadata": {},
   "outputs": [
    {
     "name": "stdout",
     "output_type": "stream",
     "text": [
      "Question: Musician and satirist Allie Goertz wrote a song about the \"The Simpsons\" character Milhouse, who Matt Groening named after who?\n",
      "Thought: The question simplifies to \"The Simpsons\" character Milhouse is named after who. I only need to search Milhouse and find who it is named after.\n",
      "Action: Search[Milhouse]\n",
      "Observation: Milhouse Mussolini Van Houten is a recurring character in the Fox animated television series The Simpsons voiced by Pamela Hayden and created by Matt Groening.\n",
      "Thought: The paragraph does not tell who Milhouse is named after, maybe I can look up \"named after\".\n",
      "Action: Lookup[named after]\n",
      "Observation: (Result 1 / 1) Milhouse was named after U.S. president Richard Nixon, whose middle name was Milhous.\n",
      "Thought: Milhouse was named after U.S. president Richard Nixon, so the answer is Richard Nixon.\n",
      "Action: Finish[Richard Nixon]\n"
     ]
    }
   ],
   "source": [
    "print(EXAMPLES[1])"
   ]
  },
  {
   "cell_type": "code",
   "execution_count": 16,
   "metadata": {},
   "outputs": [
    {
     "name": "stdout",
     "output_type": "stream",
     "text": [
      "You are a talkative, helpful competitive analysis agent. You are given a product to analyze. You are supposed to find the companies that offer the same/similar product and analyze their websites. Find the best website to analyze for each competitor. Convert the website content into Embeddings and store them in a vectore database. Use RetrievalQA to fill in data into the pre-defined markdown formatted table. Add more rows and columns to the table as need be. Try to answer as many optional questions as possible. \n",
      "\n",
      "Solve the task with interleaving Thought, Action, Observation steps. \n",
      "Thought can reason about the current situation, and Action can only be from a fixed set of tools. Observation is the result of the action.\n",
      "\n",
      "If you cannot find the answers to any part of the task, ask for help from a human. Do not make up any answers. Fill your thoughts and observations below. \n",
      "\n",
      "\n",
      "Set of tools:\n",
      "1. Search[entity]: Searches the exact entity on Google.\n",
      "2. VectorStore[url]: Embed content of the website at the url to a Vector Database.\n",
      "3. Lookup[query]: Lookup the exact query in the Vector Database.\n",
      "4. Help[error]: Ask for help from a human for the error.\n",
      "5. Finish[done]: Finish the task and return done.\n",
      "\n",
      "\n",
      "Examples: {examples}\n",
      "\n",
      "Product to analyze: {product} \n",
      "\n",
      "Optional Questions: {questions} \n",
      "\n",
      "Table: {table} \n",
      "\n",
      "{agent_scratchpad}\n"
     ]
    }
   ],
   "source": [
    "# can even add a new point: STEP --> which shows which step is the agent currently on: \n",
    "# 1. Finding competitors\n",
    "# 2. Finding the best website to analyze for each competitor\n",
    "# 3. Converting the website content into Embeddings and store them in a vectore database\n",
    "# 4. Using RetrievalQA to create the table\n",
    "\n",
    "instructions = \"\"\"\\\n",
    "You are a talkative, helpful competitive analysis agent. You are given a product to analyze. You are supposed to find the companies that offer the same/similar product and analyze their websites. Find the best website to analyze for each competitor. Convert the website content into Embeddings and store them in a vectore database. Use RetrievalQA to fill in data into the pre-defined markdown formatted table. Add more rows and columns to the table as need be. Try to answer as many optional questions as possible. \n",
    "\n",
    "Solve the task with interleaving Thought, Action, Observation steps. \n",
    "Thought can reason about the current situation, and Action can only be from a fixed set of tools. Observation is the result of the action.\n",
    "\n",
    "If you cannot find the answers to any part of the task, ask for help from a human. Do not make up any answers. Fill your thoughts and observations below. \n",
    "\n",
    "\n",
    "Set of tools:\n",
    "1. Search[entity]: Searches the exact entity on Google.\n",
    "2. VectorStore[url]: Embed content of the website at the url to a Vector Database.\n",
    "3. Lookup[query]: Lookup the exact query in the Vector Database.\n",
    "4. Help[error]: Ask for help from a human for the error.\n",
    "5. Finish[done]: Finish the task and return done.\n",
    "\n",
    "\n",
    "Examples: {examples}\n",
    "\n",
    "Product to analyze: {product} \n",
    "\n",
    "Optional Questions: {optional_questions} \n",
    "\n",
    "Table: {table} \n",
    "\n",
    "{agent_scratchpad}\"\"\"\n",
    "\n",
    "print(instructions)"
   ]
  },
  {
   "cell_type": "code",
   "execution_count": 20,
   "metadata": {},
   "outputs": [],
   "source": [
    "# examples: List[str] -- predefined examples (cannot be updated by the user)\n",
    "# product: str -- user input\n",
    "# optional_questions: List[str] -- user input\n",
    "# table: str -- given below (can be updated by the user)\n",
    "# agent_scratchpad: str = \"\" -- to be filled by agent"
   ]
  },
  {
   "cell_type": "code",
   "execution_count": 21,
   "metadata": {},
   "outputs": [
    {
     "name": "stdout",
     "output_type": "stream",
     "text": [
      "|               \t| User Base \t| User Region \t| User Age Group \t| Features \t| Add more comparision points \t|\n",
      "|---------------\t|-----------\t|-------------\t|----------------\t|----------\t|-----------------------------\t|\n",
      "| App 1         \t|           \t|             \t|                \t|          \t|                             \t|\n",
      "| App 2         \t|           \t|             \t|                \t|          \t|                             \t|\n",
      "| Add more apps \t|           \t|             \t|                \t|          \t|                             \t|\n"
     ]
    }
   ],
   "source": [
    "table = \"\"\"\\\n",
    "|               \t| User Base \t| User Region \t| User Age Group \t| Features \t| Add more comparision points \t|\n",
    "|---------------\t|-----------\t|-------------\t|----------------\t|----------\t|-----------------------------\t|\n",
    "| App 1         \t|           \t|             \t|                \t|          \t|                             \t|\n",
    "| App 2         \t|           \t|             \t|                \t|          \t|                             \t|\n",
    "| Add more apps \t|           \t|             \t|                \t|          \t|                             \t|\"\"\"\n",
    "\n",
    "print(table)"
   ]
  }
 ],
 "metadata": {
  "kernelspec": {
   "display_name": "synap_labs_env",
   "language": "python",
   "name": "python3"
  },
  "language_info": {
   "codemirror_mode": {
    "name": "ipython",
    "version": 3
   },
   "file_extension": ".py",
   "mimetype": "text/x-python",
   "name": "python",
   "nbconvert_exporter": "python",
   "pygments_lexer": "ipython3",
   "version": "3.10.5"
  },
  "orig_nbformat": 4
 },
 "nbformat": 4,
 "nbformat_minor": 2
}
